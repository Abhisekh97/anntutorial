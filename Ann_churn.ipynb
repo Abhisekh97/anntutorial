{
  "nbformat": 4,
  "nbformat_minor": 0,
  "metadata": {
    "colab": {
      "name": "Ann churn",
      "private_outputs": true,
      "provenance": [],
      "collapsed_sections": [],
      "authorship_tag": "ABX9TyPGTRpAHdhrl0bBSgu45QN9",
      "include_colab_link": true
    },
    "kernelspec": {
      "name": "python3",
      "display_name": "Python 3"
    },
    "accelerator": "GPU"
  },
  "cells": [
    {
      "cell_type": "markdown",
      "metadata": {
        "id": "view-in-github",
        "colab_type": "text"
      },
      "source": [
        "<a href=\"https://colab.research.google.com/github/Abhisekh97/anntutorial/blob/main/Ann_churn.ipynb\" target=\"_parent\"><img src=\"https://colab.research.google.com/assets/colab-badge.svg\" alt=\"Open In Colab\"/></a>"
      ]
    },
    {
      "cell_type": "code",
      "metadata": {
        "id": "gQu7o2YHxGcQ"
      },
      "source": [
        "import numpy as np\r\n",
        "import matplotlib.pyplot as plt\r\n",
        "import pandas as pd"
      ],
      "execution_count": null,
      "outputs": []
    },
    {
      "cell_type": "code",
      "metadata": {
        "id": "LRp4iTNoyVPF"
      },
      "source": [
        "from google.colab import drive\r\n",
        "drive.mount(\"/content/gdrive\")\r\n"
      ],
      "execution_count": null,
      "outputs": []
    },
    {
      "cell_type": "code",
      "metadata": {
        "id": "z1cwWMgEyY4_"
      },
      "source": [
        "from google.colab import files\r\n",
        "uploaded = files.upload()"
      ],
      "execution_count": null,
      "outputs": []
    },
    {
      "cell_type": "code",
      "metadata": {
        "id": "akWFOoV_55im"
      },
      "source": [
        "from google.colab import drive\n",
        "drive.mount('/content/drive')"
      ],
      "execution_count": null,
      "outputs": []
    },
    {
      "cell_type": "code",
      "metadata": {
        "id": "CX_ydzLdywO2"
      },
      "source": [
        "dataset = pd.read_csv(\"Churn_Modelling.csv\")"
      ],
      "execution_count": null,
      "outputs": []
    },
    {
      "cell_type": "code",
      "metadata": {
        "id": "QLdhUEQFzFpH"
      },
      "source": [
        "dataset.head(10)"
      ],
      "execution_count": null,
      "outputs": []
    },
    {
      "cell_type": "code",
      "metadata": {
        "id": "RDwA65hRzMA-"
      },
      "source": [
        "print(dataset.shape)\r\n",
        "X = dataset.iloc[:, :-1]\r\n",
        "y = dataset.iloc[:,13]\r\n",
        "print(X.shape)\r\n",
        "print(y.shape)"
      ],
      "execution_count": null,
      "outputs": []
    },
    {
      "cell_type": "code",
      "metadata": {
        "id": "IaIMlIyAzgCF"
      },
      "source": [
        "X = X.drop(columns=['RowNumber', 'CustomerId', 'Surname'])"
      ],
      "execution_count": null,
      "outputs": []
    },
    {
      "cell_type": "code",
      "metadata": {
        "id": "lptSI28D6dX6"
      },
      "source": [
        "X.shape"
      ],
      "execution_count": null,
      "outputs": []
    },
    {
      "cell_type": "code",
      "metadata": {
        "id": "4pKu8bzn6qmR"
      },
      "source": [
        "X.head()"
      ],
      "execution_count": null,
      "outputs": []
    },
    {
      "cell_type": "code",
      "metadata": {
        "id": "AND-t4Yb6tP2"
      },
      "source": [
        "geography = pd.get_dummies(dataset['Geography'], drop_first=True)\r\n",
        "gender = pd.get_dummies(dataset.Gender, drop_first=True)"
      ],
      "execution_count": null,
      "outputs": []
    },
    {
      "cell_type": "code",
      "metadata": {
        "id": "kdrGpBu083vD"
      },
      "source": [
        "X = X.drop(columns=['Geography', 'Gender'])\r\n",
        "X = pd.concat([X,geography, gender], axis='columns')\r\n",
        "X.head()"
      ],
      "execution_count": null,
      "outputs": []
    },
    {
      "cell_type": "code",
      "metadata": {
        "id": "D9O5286_9nST"
      },
      "source": [
        "from sklearn.model_selection import  train_test_split\r\n",
        "X_train, X_test, y_train, y_test = train_test_split(X, y, test_size=0.2)"
      ],
      "execution_count": null,
      "outputs": []
    },
    {
      "cell_type": "code",
      "metadata": {
        "id": "2asCH2z6-Y9b"
      },
      "source": [
        "print(X_train.shape)\r\n",
        "print(y_train.shape)\r\n",
        "print(X_test.shape)\r\n",
        "print(y_test.shape)"
      ],
      "execution_count": null,
      "outputs": []
    },
    {
      "cell_type": "code",
      "metadata": {
        "id": "1zG4_OEU-mvH"
      },
      "source": [
        "from sklearn.preprocessing import StandardScaler as sc\r\n",
        "sc = sc()\r\n",
        "X_train = sc.fit_transform(X_train)\r\n",
        "X_test = sc.transform(X_test)\r\n"
      ],
      "execution_count": null,
      "outputs": []
    },
    {
      "cell_type": "code",
      "metadata": {
        "id": "W0ziOkf2ITLQ"
      },
      "source": [
        "X_train.shape"
      ],
      "execution_count": null,
      "outputs": []
    },
    {
      "cell_type": "code",
      "metadata": {
        "id": "JQxi1xzuA1st"
      },
      "source": [
        "import keras\r\n",
        "from keras.models import Sequential\r\n",
        "from keras.layers import Dense \r\n",
        "from keras.layers import Dropout"
      ],
      "execution_count": null,
      "outputs": []
    },
    {
      "cell_type": "code",
      "metadata": {
        "id": "kn-AqJb5BOGQ"
      },
      "source": [
        "model = Sequential()\r\n",
        "model.add(Dense(units=6, kernel_initializer='he_uniform', activation='relu', input_dim=11))\r\n",
        "model.add(Dense(units=6, kernel_initializer='he_uniform', activation='relu', input_dim=6))\r\n",
        "model.add(Dense(units=1, activation='sigmoid',kernel_initializer='glorot_uniform', input_dim=6))\r\n",
        "model.compile(optimizer='adam', loss='binary_crossentropy', metrics=['accuracy'])"
      ],
      "execution_count": null,
      "outputs": []
    },
    {
      "cell_type": "code",
      "metadata": {
        "id": "sXWvb4xtEnZX"
      },
      "source": [
        "model.summary()"
      ],
      "execution_count": null,
      "outputs": []
    },
    {
      "cell_type": "code",
      "metadata": {
        "id": "y_4ygOyiE4Ds"
      },
      "source": [
        "model_history = model.fit(X_train, y_train, validation_split=0.2, verbose=True, batch_size=10,epochs=100,)"
      ],
      "execution_count": null,
      "outputs": []
    },
    {
      "cell_type": "code",
      "metadata": {
        "id": "z6fAdMTcL-aY"
      },
      "source": [
        "print(model_history.history.keys())"
      ],
      "execution_count": null,
      "outputs": []
    },
    {
      "cell_type": "code",
      "metadata": {
        "id": "uinYNzO4N0Kg"
      },
      "source": [
        "y_pred = model.predict(X_test)\r\n",
        "y_pred = (y_pred>0.5)\r\n",
        "from sklearn.metrics import confusion_matrix as cm\r\n",
        "score = cm(y_test, y_pred)\r\n"
      ],
      "execution_count": null,
      "outputs": []
    },
    {
      "cell_type": "code",
      "metadata": {
        "id": "KGAE7zbbOrgr"
      },
      "source": [
        "print(score)"
      ],
      "execution_count": null,
      "outputs": []
    },
    {
      "cell_type": "code",
      "metadata": {
        "id": "PwnLzdXCPbtR"
      },
      "source": [
        "(1547+183)/2000\r\n",
        "recall = 183/(183+196)\r\n",
        "prec = 183/(183+74)\r\n",
        "f1_score = 2*((prec*recall)/(prec+recall))\r\n",
        "print(recall)\r\n",
        "print(prec)\r\n",
        "print(f1_score)"
      ],
      "execution_count": null,
      "outputs": []
    },
    {
      "cell_type": "code",
      "metadata": {
        "id": "nSFrkGWqS9TS"
      },
      "source": [
        "from sklearn.metrics import f1_score, precision_score, recall_score\r\n",
        "print(precision_score(y_test, y_pred))\r\n",
        "print(recall_score(y_test, y_pred))\r\n",
        "print(f1_score(y_test,y_pred))"
      ],
      "execution_count": null,
      "outputs": []
    },
    {
      "cell_type": "code",
      "metadata": {
        "id": "-0YCMVQbOv-c"
      },
      "source": [
        "from sklearn.metrics import accuracy_score as acc\r\n",
        "accuracy = acc(y_pred, y_test)"
      ],
      "execution_count": null,
      "outputs": []
    },
    {
      "cell_type": "code",
      "metadata": {
        "id": "ip_nET5TO8Ke"
      },
      "source": [
        "print(accuracy)"
      ],
      "execution_count": null,
      "outputs": []
    },
    {
      "cell_type": "code",
      "metadata": {
        "id": "CyAqW9edMuDS"
      },
      "source": [
        "plt.plot(model_history.history['accuracy'])\r\n",
        "plt.plot(model_history.history['val_accuracy'])\r\n",
        "plt.title(\"model_accuracy\")\r\n",
        "plt.title('validation_accuracy')"
      ],
      "execution_count": null,
      "outputs": []
    },
    {
      "cell_type": "code",
      "metadata": {
        "id": "k8eyi96hO6-r"
      },
      "source": [
        ""
      ],
      "execution_count": null,
      "outputs": []
    },
    {
      "cell_type": "code",
      "metadata": {
        "id": "l7aBWSLuNTtq"
      },
      "source": [
        ""
      ],
      "execution_count": null,
      "outputs": []
    }
  ]
}